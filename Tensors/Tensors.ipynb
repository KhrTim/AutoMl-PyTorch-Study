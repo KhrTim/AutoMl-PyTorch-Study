{
 "cells": [
  {
   "cell_type": "code",
   "execution_count": 1,
   "metadata": {},
   "outputs": [],
   "source": [
    "import torch\n",
    "import numpy as np"
   ]
  },
  {
   "cell_type": "code",
   "execution_count": 2,
   "metadata": {},
   "outputs": [],
   "source": [
    "data = [[1, 2], [3, 4]]\n",
    "x_data = torch.tensor(data)"
   ]
  },
  {
   "cell_type": "code",
   "execution_count": 3,
   "metadata": {},
   "outputs": [],
   "source": [
    "np_array = np.array(data)\n",
    "x_np = torch.from_numpy(np_array)"
   ]
  },
  {
   "cell_type": "code",
   "execution_count": 4,
   "metadata": {},
   "outputs": [
    {
     "name": "stdout",
     "output_type": "stream",
     "text": [
      "Ones Tensor: \n",
      " tensor([[1, 1],\n",
      "        [1, 1]]) \n",
      "\n"
     ]
    }
   ],
   "source": [
    "x_ones = torch.ones_like(x_data)\n",
    "print(f\"Ones Tensor: \\n {x_ones} \\n\")"
   ]
  },
  {
   "cell_type": "code",
   "execution_count": 5,
   "metadata": {},
   "outputs": [
    {
     "name": "stdout",
     "output_type": "stream",
     "text": [
      "Random Tensor: \n",
      " tensor([[0.7898, 0.1397],\n",
      "        [0.6721, 0.8444]]) \n",
      "\n"
     ]
    }
   ],
   "source": [
    "x_rand = torch.rand_like(x_data, dtype=torch.float)\n",
    "print(f\"Random Tensor: \\n {x_rand} \\n\")"
   ]
  },
  {
   "cell_type": "code",
   "execution_count": 16,
   "metadata": {},
   "outputs": [
    {
     "name": "stdout",
     "output_type": "stream",
     "text": [
      "tensor([[0.4133, 0.0235, 0.4360],\n",
      "        [0.5577, 0.0639, 0.9540]])\n",
      "tensor([[1., 1., 1.],\n",
      "        [1., 1., 1.]])\n",
      "tensor([[0., 0., 0.],\n",
      "        [0., 0., 0.]])\n"
     ]
    }
   ],
   "source": [
    "shape = (2,3,)\n",
    "rand_tensor = torch.rand(shape)\n",
    "ones_tensor = torch.ones(shape)\n",
    "zeros_tensor = torch.zeros(shape)\n",
    "\n",
    "print(rand_tensor)\n",
    "print(ones_tensor)\n",
    "print(zeros_tensor)\n",
    "\n"
   ]
  },
  {
   "cell_type": "code",
   "execution_count": 21,
   "metadata": {},
   "outputs": [
    {
     "name": "stdout",
     "output_type": "stream",
     "text": [
      "torch.float32\n",
      "cpu\n",
      "torch.Size([2, 3])\n"
     ]
    }
   ],
   "source": [
    "print(rand_tensor.dtype)\n",
    "print(rand_tensor.device)\n",
    "print(rand_tensor.shape)\n"
   ]
  },
  {
   "cell_type": "code",
   "execution_count": 22,
   "metadata": {},
   "outputs": [
    {
     "data": {
      "text/plain": [
       "tensor([[0.4133, 0.0235, 0.4360],\n",
       "        [0.5577, 0.0639, 0.9540]], device='cuda:0')"
      ]
     },
     "execution_count": 22,
     "metadata": {},
     "output_type": "execute_result"
    }
   ],
   "source": [
    "rand_tensor.to(\"cuda\")"
   ]
  },
  {
   "cell_type": "code",
   "execution_count": 30,
   "metadata": {},
   "outputs": [
    {
     "name": "stdout",
     "output_type": "stream",
     "text": [
      "tensor([[1., 1., 1., 1.],\n",
      "        [1., 1., 1., 1.],\n",
      "        [1., 1., 1., 1.],\n",
      "        [1., 1., 1., 1.]])\n",
      "First row: {} tensor([1., 1., 1., 1.])\n",
      "First column: {} tensor([1., 1., 1., 1.])\n",
      "Last column: {} tensor([1., 1., 1., 1.])\n",
      "tensor([[ 1.,  1.,  1., 10.],\n",
      "        [ 1.,  1.,  1., 10.],\n",
      "        [ 1.,  1.,  1., 10.],\n",
      "        [ 1.,  1.,  1., 10.]])\n"
     ]
    }
   ],
   "source": [
    "ones_tensor = torch.ones(4,4)\n",
    "print(ones_tensor)\n",
    "print(\"First row: {}\", ones_tensor[0])\n",
    "print(\"First column: {}\", ones_tensor[:, 0])\n",
    "print(\"Last column: {}\", ones_tensor[:, -1])\n",
    "ones_tensor[:, -1] = 10\n",
    "print(ones_tensor)"
   ]
  },
  {
   "cell_type": "code",
   "execution_count": 32,
   "metadata": {},
   "outputs": [
    {
     "name": "stdout",
     "output_type": "stream",
     "text": [
      "tensor([[ 1.,  1.,  1., 10.,  1.,  1.,  1., 10.,  1.,  1.,  1., 10.],\n",
      "        [ 1.,  1.,  1., 10.,  1.,  1.,  1., 10.,  1.,  1.,  1., 10.],\n",
      "        [ 1.,  1.,  1., 10.,  1.,  1.,  1., 10.,  1.,  1.,  1., 10.],\n",
      "        [ 1.,  1.,  1., 10.,  1.,  1.,  1., 10.,  1.,  1.,  1., 10.]])\n"
     ]
    }
   ],
   "source": [
    "joined = torch.cat([ones_tensor, ones_tensor, ones_tensor], dim=1)\n",
    "print(joined)"
   ]
  },
  {
   "cell_type": "code",
   "execution_count": 35,
   "metadata": {},
   "outputs": [
    {
     "name": "stdout",
     "output_type": "stream",
     "text": [
      "tensor([[ 1.,  1.,  1.,  1.],\n",
      "        [ 1.,  1.,  1.,  1.],\n",
      "        [ 1.,  1.,  1.,  1.],\n",
      "        [10., 10., 10., 10.],\n",
      "        [ 1.,  1.,  1.,  1.],\n",
      "        [ 1.,  1.,  1.,  1.],\n",
      "        [ 1.,  1.,  1.,  1.],\n",
      "        [10., 10., 10., 10.],\n",
      "        [ 1.,  1.,  1.,  1.],\n",
      "        [ 1.,  1.,  1.,  1.],\n",
      "        [ 1.,  1.,  1.,  1.],\n",
      "        [10., 10., 10., 10.]])\n",
      "tensor([[309., 309., 309., 309.],\n",
      "        [309., 309., 309., 309.],\n",
      "        [309., 309., 309., 309.],\n",
      "        [309., 309., 309., 309.]])\n"
     ]
    }
   ],
   "source": [
    "y1 = joined @ joined.T\n",
    "print(joined.T)\n",
    "print(y1)"
   ]
  },
  {
   "cell_type": "code",
   "execution_count": 37,
   "metadata": {},
   "outputs": [
    {
     "name": "stdout",
     "output_type": "stream",
     "text": [
      "tensor([[309., 309., 309., 309.],\n",
      "        [309., 309., 309., 309.],\n",
      "        [309., 309., 309., 309.],\n",
      "        [309., 309., 309., 309.]])\n"
     ]
    }
   ],
   "source": [
    "y2 = joined.matmul(joined.T)\n",
    "print(y2)"
   ]
  },
  {
   "cell_type": "code",
   "execution_count": 43,
   "metadata": {},
   "outputs": [
    {
     "name": "stdout",
     "output_type": "stream",
     "text": [
      "tensor([[0.2273, 0.0960, 0.7467, 0.8630],\n",
      "        [0.2068, 0.6394, 0.9883, 0.4671],\n",
      "        [0.3869, 0.5961, 0.1272, 0.7879],\n",
      "        [0.8453, 0.0440, 0.9779, 0.0998]])\n"
     ]
    },
    {
     "data": {
      "text/plain": [
       "tensor([[103., 103., 103., 103.],\n",
       "        [103., 103., 103., 103.],\n",
       "        [103., 103., 103., 103.],\n",
       "        [103., 103., 103., 103.]])"
      ]
     },
     "execution_count": 43,
     "metadata": {},
     "output_type": "execute_result"
    }
   ],
   "source": [
    "y3 = torch.rand_like(y1)\n",
    "print(y3)\n",
    "torch.matmul(ones_tensor, ones_tensor.T, out=y3)"
   ]
  },
  {
   "cell_type": "code",
   "execution_count": 44,
   "metadata": {},
   "outputs": [
    {
     "name": "stdout",
     "output_type": "stream",
     "text": [
      "tensor([[  1.,   1.,   1., 100.],\n",
      "        [  1.,   1.,   1., 100.],\n",
      "        [  1.,   1.,   1., 100.],\n",
      "        [  1.,   1.,   1., 100.]])\n"
     ]
    }
   ],
   "source": [
    "z1 = ones_tensor * ones_tensor\n",
    "print(z1)"
   ]
  },
  {
   "cell_type": "code",
   "execution_count": 45,
   "metadata": {},
   "outputs": [
    {
     "data": {
      "text/plain": [
       "tensor([[  1.,   1.,   1., 100.],\n",
       "        [  1.,   1.,   1., 100.],\n",
       "        [  1.,   1.,   1., 100.],\n",
       "        [  1.,   1.,   1., 100.]])"
      ]
     },
     "execution_count": 45,
     "metadata": {},
     "output_type": "execute_result"
    }
   ],
   "source": [
    "z2 = ones_tensor.mul(ones_tensor)\n",
    "\n",
    "z3 = torch.rand_like(ones_tensor)\n",
    "torch.mul(ones_tensor, ones_tensor, out=z3)"
   ]
  },
  {
   "cell_type": "code",
   "execution_count": 47,
   "metadata": {},
   "outputs": [
    {
     "name": "stdout",
     "output_type": "stream",
     "text": [
      "tensor(52.)\n",
      "52.0 <class 'float'>\n"
     ]
    }
   ],
   "source": [
    "agg = ones_tensor.sum()\n",
    "print(agg)\n",
    "agg_item = agg.item()\n",
    "print(agg_item, type(agg_item))"
   ]
  },
  {
   "cell_type": "code",
   "execution_count": 48,
   "metadata": {},
   "outputs": [
    {
     "data": {
      "text/plain": [
       "tensor([[46., 46., 46., 55.],\n",
       "        [46., 46., 46., 55.],\n",
       "        [46., 46., 46., 55.],\n",
       "        [46., 46., 46., 55.]])"
      ]
     },
     "execution_count": 48,
     "metadata": {},
     "output_type": "execute_result"
    }
   ],
   "source": [
    "ones_tensor.add_(45)"
   ]
  },
  {
   "cell_type": "code",
   "execution_count": 53,
   "metadata": {},
   "outputs": [
    {
     "name": "stdout",
     "output_type": "stream",
     "text": [
      "tensor([1., 1., 1., 1.])\n",
      "[1. 1. 1. 1.]\n"
     ]
    }
   ],
   "source": [
    "t = torch.ones(4)\n",
    "print(t)\n",
    "n = t.numpy()\n",
    "print(n)"
   ]
  },
  {
   "cell_type": "code",
   "execution_count": 54,
   "metadata": {},
   "outputs": [
    {
     "data": {
      "text/plain": [
       "tensor([5001., 5001., 5001., 5001.])"
      ]
     },
     "execution_count": 54,
     "metadata": {},
     "output_type": "execute_result"
    }
   ],
   "source": [
    "t.add_(5000)"
   ]
  },
  {
   "cell_type": "code",
   "execution_count": 56,
   "metadata": {},
   "outputs": [],
   "source": [
    "n = np.ones(5)\n",
    "t = torch.from_numpy(n)"
   ]
  },
  {
   "cell_type": "code",
   "execution_count": 57,
   "metadata": {},
   "outputs": [
    {
     "data": {
      "text/plain": [
       "array([666667., 666667., 666667., 666667., 666667.])"
      ]
     },
     "execution_count": 57,
     "metadata": {},
     "output_type": "execute_result"
    }
   ],
   "source": [
    "np.add(n, 666666, out=n)"
   ]
  }
 ],
 "metadata": {
  "kernelspec": {
   "display_name": "Python 3",
   "language": "python",
   "name": "python3"
  },
  "language_info": {
   "codemirror_mode": {
    "name": "ipython",
    "version": 3
   },
   "file_extension": ".py",
   "mimetype": "text/x-python",
   "name": "python",
   "nbconvert_exporter": "python",
   "pygments_lexer": "ipython3",
   "version": "3.12.2"
  }
 },
 "nbformat": 4,
 "nbformat_minor": 2
}
