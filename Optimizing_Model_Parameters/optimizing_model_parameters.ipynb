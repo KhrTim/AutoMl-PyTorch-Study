{
 "cells": [
  {
   "cell_type": "code",
   "execution_count": 1,
   "metadata": {},
   "outputs": [],
   "source": [
    "import torch\n",
    "from torch import nn\n",
    "from torch.utils.data import DataLoader\n",
    "from torchvision import datasets\n",
    "from torchvision.transforms import ToTensor"
   ]
  },
  {
   "cell_type": "code",
   "execution_count": 2,
   "metadata": {},
   "outputs": [
    {
     "name": "stdout",
     "output_type": "stream",
     "text": [
      "Downloading http://fashion-mnist.s3-website.eu-central-1.amazonaws.com/train-images-idx3-ubyte.gz\n",
      "Downloading http://fashion-mnist.s3-website.eu-central-1.amazonaws.com/train-images-idx3-ubyte.gz to data\\FashionMNIST\\raw\\train-images-idx3-ubyte.gz\n"
     ]
    },
    {
     "name": "stderr",
     "output_type": "stream",
     "text": [
      "100.0%\n"
     ]
    },
    {
     "name": "stdout",
     "output_type": "stream",
     "text": [
      "Extracting data\\FashionMNIST\\raw\\train-images-idx3-ubyte.gz to data\\FashionMNIST\\raw\n",
      "\n",
      "Downloading http://fashion-mnist.s3-website.eu-central-1.amazonaws.com/train-labels-idx1-ubyte.gz\n",
      "Downloading http://fashion-mnist.s3-website.eu-central-1.amazonaws.com/train-labels-idx1-ubyte.gz to data\\FashionMNIST\\raw\\train-labels-idx1-ubyte.gz\n"
     ]
    },
    {
     "name": "stderr",
     "output_type": "stream",
     "text": [
      "100.0%\n"
     ]
    },
    {
     "name": "stdout",
     "output_type": "stream",
     "text": [
      "Extracting data\\FashionMNIST\\raw\\train-labels-idx1-ubyte.gz to data\\FashionMNIST\\raw\n",
      "\n",
      "Downloading http://fashion-mnist.s3-website.eu-central-1.amazonaws.com/t10k-images-idx3-ubyte.gz\n",
      "Downloading http://fashion-mnist.s3-website.eu-central-1.amazonaws.com/t10k-images-idx3-ubyte.gz to data\\FashionMNIST\\raw\\t10k-images-idx3-ubyte.gz\n"
     ]
    },
    {
     "name": "stderr",
     "output_type": "stream",
     "text": [
      "100.0%\n"
     ]
    },
    {
     "name": "stdout",
     "output_type": "stream",
     "text": [
      "Extracting data\\FashionMNIST\\raw\\t10k-images-idx3-ubyte.gz to data\\FashionMNIST\\raw\n",
      "\n",
      "Downloading http://fashion-mnist.s3-website.eu-central-1.amazonaws.com/t10k-labels-idx1-ubyte.gz\n",
      "Downloading http://fashion-mnist.s3-website.eu-central-1.amazonaws.com/t10k-labels-idx1-ubyte.gz to data\\FashionMNIST\\raw\\t10k-labels-idx1-ubyte.gz\n"
     ]
    },
    {
     "name": "stderr",
     "output_type": "stream",
     "text": [
      "100.0%"
     ]
    },
    {
     "name": "stdout",
     "output_type": "stream",
     "text": [
      "Extracting data\\FashionMNIST\\raw\\t10k-labels-idx1-ubyte.gz to data\\FashionMNIST\\raw\n",
      "\n"
     ]
    },
    {
     "name": "stderr",
     "output_type": "stream",
     "text": [
      "\n"
     ]
    }
   ],
   "source": [
    "training_data = datasets.FashionMNIST(\n",
    "    root=\"data\",\n",
    "    train=True,\n",
    "    download=True,\n",
    "    transform=ToTensor()\n",
    ")"
   ]
  },
  {
   "cell_type": "code",
   "execution_count": 5,
   "metadata": {},
   "outputs": [],
   "source": [
    "test_data=datasets.FashionMNIST(\n",
    "    root=\"data\", \n",
    "    train=False, \n",
    "    download=True,\n",
    "    transform=ToTensor()\n",
    ")"
   ]
  },
  {
   "cell_type": "code",
   "execution_count": 7,
   "metadata": {},
   "outputs": [],
   "source": [
    "train_dataloader = DataLoader(training_data, batch_size=64)\n",
    "test_dataloader = DataLoader(test_data, batch_size=64)\n",
    "\n",
    "class NN(nn.Module):\n",
    "    def __init__(self) -> None:\n",
    "        super().__init__()\n",
    "        self.flatten = nn.Flatten()\n",
    "        self.linear_relu_stack = nn.Sequential(\n",
    "            nn.Linear(28*28, 512),\n",
    "            nn.ReLU(),\n",
    "            nn.Linear(512, 512),\n",
    "            nn.ReLU(),\n",
    "            nn.Linear(512, 10)\n",
    "        )\n",
    "    \n",
    "    def forward(self, x):\n",
    "        x = self.flatten(x)\n",
    "        logits = self.linear_relu_stack(x)\n",
    "        return logits\n",
    "model = NN()"
   ]
  },
  {
   "cell_type": "markdown",
   "metadata": {},
   "source": [
    "Hyperparameters are adjustable parameters that let you control the model optimization process. Different hyperparameter values can impact model training and convergence rates"
   ]
  },
  {
   "cell_type": "code",
   "execution_count": 8,
   "metadata": {},
   "outputs": [],
   "source": [
    "learning_rate = 1e-3\n",
    "batch_size = 64\n",
    "epochs = 5"
   ]
  },
  {
   "cell_type": "code",
   "execution_count": 9,
   "metadata": {},
   "outputs": [],
   "source": [
    "loss_fn = nn.CrossEntropyLoss()"
   ]
  },
  {
   "cell_type": "code",
   "execution_count": 10,
   "metadata": {},
   "outputs": [],
   "source": [
    "optimizer = torch.optim.SGD(model.parameters(), lr=learning_rate)"
   ]
  },
  {
   "cell_type": "code",
   "execution_count": 11,
   "metadata": {},
   "outputs": [],
   "source": [
    "def train_loop(dataloader, model, loss_fn, optimizer):\n",
    "    size = len(dataloader.dataset)\n",
    "\n",
    "    model.train()\n",
    "\n",
    "    for batch, (X, y) in enumerate(dataloader):\n",
    "        pred = model(X)\n",
    "        loss = loss_fn(pred, y)\n",
    "\n",
    "        loss.backward()\n",
    "        optimizer.step()\n",
    "        optimizer.zero_grad()\n",
    "\n",
    "        if batch % 100 == 0:\n",
    "            loss, current = loss.item(), batch * batch_size + len(X)\n",
    "            print(f\"loss: {loss:>7f} [{current:>5d}/{size:>5d}]\")\n",
    "\n",
    "def test_loop(dataloader, model, loss_fn):\n",
    "    model.eval()\n",
    "    size = len(dataloader.dataset)\n",
    "    num_batches = len(dataloader)\n",
    "    test_loss, correct = 0, 0\n",
    "\n",
    "    with torch.no_grad():\n",
    "        for X, y in dataloader:\n",
    "            pred = model(X)\n",
    "            test_loss += loss_fn(pred, y).item()\n",
    "            correct += (pred.argmax(1) == y).type(torch.float).sum().item()\n",
    "\n",
    "    test_loss /= num_batches\n",
    "    correct /= size\n",
    "    print(f\"Test error: \\n Accuracy: {(100*correct):>0.1f}%, Avg loss: {test_loss:>8f} \\n\")"
   ]
  },
  {
   "cell_type": "code",
   "execution_count": 13,
   "metadata": {},
   "outputs": [
    {
     "name": "stdout",
     "output_type": "stream",
     "text": [
      "Epoch 1\n",
      "-------------------------------\n",
      "loss: 2.200746 [   64/60000]\n",
      "loss: 2.192960 [ 6464/60000]\n",
      "loss: 2.139698 [12864/60000]\n",
      "loss: 2.139461 [19264/60000]\n",
      "loss: 2.107677 [25664/60000]\n",
      "loss: 2.057622 [32064/60000]\n",
      "loss: 2.075549 [38464/60000]\n",
      "loss: 2.012779 [44864/60000]\n",
      "loss: 2.023936 [51264/60000]\n",
      "loss: 1.941442 [57664/60000]\n",
      "Test error: \n",
      " Accuracy: 50.6%, Avg loss: 1.944863 \n",
      "\n",
      "Epoch 2\n",
      "-------------------------------\n",
      "loss: 1.983381 [   64/60000]\n",
      "loss: 1.957850 [ 6464/60000]\n",
      "loss: 1.845559 [12864/60000]\n",
      "loss: 1.864785 [19264/60000]\n",
      "loss: 1.781670 [25664/60000]\n",
      "loss: 1.728671 [32064/60000]\n",
      "loss: 1.746397 [38464/60000]\n",
      "loss: 1.652420 [44864/60000]\n",
      "loss: 1.686060 [51264/60000]\n",
      "loss: 1.563992 [57664/60000]\n",
      "Test error: \n",
      " Accuracy: 57.0%, Avg loss: 1.585509 \n",
      "\n",
      "Epoch 3\n",
      "-------------------------------\n",
      "loss: 1.658868 [   64/60000]\n",
      "loss: 1.621998 [ 6464/60000]\n",
      "loss: 1.471075 [12864/60000]\n",
      "loss: 1.521229 [19264/60000]\n",
      "loss: 1.420999 [25664/60000]\n",
      "loss: 1.411777 [32064/60000]\n",
      "loss: 1.421521 [38464/60000]\n",
      "loss: 1.346811 [44864/60000]\n",
      "loss: 1.386550 [51264/60000]\n",
      "loss: 1.275326 [57664/60000]\n",
      "Test error: \n",
      " Accuracy: 62.1%, Avg loss: 1.303322 \n",
      "\n",
      "Epoch 4\n",
      "-------------------------------\n",
      "loss: 1.387165 [   64/60000]\n",
      "loss: 1.365909 [ 6464/60000]\n",
      "loss: 1.197784 [12864/60000]\n",
      "loss: 1.285513 [19264/60000]\n",
      "loss: 1.169363 [25664/60000]\n",
      "loss: 1.200338 [32064/60000]\n",
      "loss: 1.214941 [38464/60000]\n",
      "loss: 1.153258 [44864/60000]\n",
      "loss: 1.194205 [51264/60000]\n",
      "loss: 1.105050 [57664/60000]\n",
      "Test error: \n",
      " Accuracy: 64.6%, Avg loss: 1.124714 \n",
      "\n",
      "Epoch 5\n",
      "-------------------------------\n",
      "loss: 1.202526 [   64/60000]\n",
      "loss: 1.200419 [ 6464/60000]\n",
      "loss: 1.016987 [12864/60000]\n",
      "loss: 1.137416 [19264/60000]\n",
      "loss: 1.010921 [25664/60000]\n",
      "loss: 1.057315 [32064/60000]\n",
      "loss: 1.086660 [38464/60000]\n",
      "loss: 1.027728 [44864/60000]\n",
      "loss: 1.070747 [51264/60000]\n",
      "loss: 0.997971 [57664/60000]\n",
      "Test error: \n",
      " Accuracy: 65.6%, Avg loss: 1.008683 \n",
      "\n",
      "Epoch 6\n",
      "-------------------------------\n",
      "loss: 1.074937 [   64/60000]\n",
      "loss: 1.092401 [ 6464/60000]\n",
      "loss: 0.892856 [12864/60000]\n",
      "loss: 1.038095 [19264/60000]\n",
      "loss: 0.911341 [25664/60000]\n",
      "loss: 0.955882 [32064/60000]\n",
      "loss: 1.002560 [38464/60000]\n",
      "loss: 0.944793 [44864/60000]\n",
      "loss: 0.985609 [51264/60000]\n",
      "loss: 0.926467 [57664/60000]\n",
      "Test error: \n",
      " Accuracy: 67.1%, Avg loss: 0.929517 \n",
      "\n",
      "Epoch 7\n",
      "-------------------------------\n",
      "loss: 0.981651 [   64/60000]\n",
      "loss: 1.017903 [ 6464/60000]\n",
      "loss: 0.804252 [12864/60000]\n",
      "loss: 0.967506 [19264/60000]\n",
      "loss: 0.845820 [25664/60000]\n",
      "loss: 0.881161 [32064/60000]\n",
      "loss: 0.943457 [38464/60000]\n",
      "loss: 0.888719 [44864/60000]\n",
      "loss: 0.924027 [51264/60000]\n",
      "loss: 0.875058 [57664/60000]\n",
      "Test error: \n",
      " Accuracy: 68.0%, Avg loss: 0.872652 \n",
      "\n",
      "Epoch 8\n",
      "-------------------------------\n",
      "loss: 0.910240 [   64/60000]\n",
      "loss: 0.962345 [ 6464/60000]\n",
      "loss: 0.738720 [12864/60000]\n",
      "loss: 0.914473 [19264/60000]\n",
      "loss: 0.800147 [25664/60000]\n",
      "loss: 0.824826 [32064/60000]\n",
      "loss: 0.898970 [38464/60000]\n",
      "loss: 0.849732 [44864/60000]\n",
      "loss: 0.878027 [51264/60000]\n",
      "loss: 0.835914 [57664/60000]\n",
      "Test error: \n",
      " Accuracy: 69.3%, Avg loss: 0.829905 \n",
      "\n",
      "Epoch 9\n",
      "-------------------------------\n",
      "loss: 0.853592 [   64/60000]\n",
      "loss: 0.918466 [ 6464/60000]\n",
      "loss: 0.688364 [12864/60000]\n",
      "loss: 0.873515 [19264/60000]\n",
      "loss: 0.766498 [25664/60000]\n",
      "loss: 0.781697 [32064/60000]\n",
      "loss: 0.863257 [38464/60000]\n",
      "loss: 0.821332 [44864/60000]\n",
      "loss: 0.842462 [51264/60000]\n",
      "loss: 0.804754 [57664/60000]\n",
      "Test error: \n",
      " Accuracy: 70.5%, Avg loss: 0.796354 \n",
      "\n",
      "Epoch 10\n",
      "-------------------------------\n",
      "loss: 0.807342 [   64/60000]\n",
      "loss: 0.881954 [ 6464/60000]\n",
      "loss: 0.648272 [12864/60000]\n",
      "loss: 0.841051 [19264/60000]\n",
      "loss: 0.740181 [25664/60000]\n",
      "loss: 0.748093 [32064/60000]\n",
      "loss: 0.832880 [38464/60000]\n",
      "loss: 0.799599 [44864/60000]\n",
      "loss: 0.814100 [51264/60000]\n",
      "loss: 0.778909 [57664/60000]\n",
      "Test error: \n",
      " Accuracy: 71.7%, Avg loss: 0.768862 \n",
      "\n",
      "Done\n"
     ]
    }
   ],
   "source": [
    "loss_fn = nn.CrossEntropyLoss()\n",
    "optimizer = torch.optim.SGD(model.parameters(), lr=learning_rate)\n",
    "\n",
    "epochs = 10\n",
    "for t in range(epochs):\n",
    "    print(f\"Epoch {t+1}\\n-------------------------------\")\n",
    "    train_loop(train_dataloader, model, loss_fn, optimizer)\n",
    "    test_loop(test_dataloader, model, loss_fn)\n",
    "print(\"Done\")\n"
   ]
  },
  {
   "cell_type": "code",
   "execution_count": null,
   "metadata": {},
   "outputs": [],
   "source": []
  },
  {
   "cell_type": "code",
   "execution_count": null,
   "metadata": {},
   "outputs": [],
   "source": []
  }
 ],
 "metadata": {
  "kernelspec": {
   "display_name": "Python 3",
   "language": "python",
   "name": "python3"
  },
  "language_info": {
   "codemirror_mode": {
    "name": "ipython",
    "version": 3
   },
   "file_extension": ".py",
   "mimetype": "text/x-python",
   "name": "python",
   "nbconvert_exporter": "python",
   "pygments_lexer": "ipython3",
   "version": "3.12.2"
  }
 },
 "nbformat": 4,
 "nbformat_minor": 2
}
